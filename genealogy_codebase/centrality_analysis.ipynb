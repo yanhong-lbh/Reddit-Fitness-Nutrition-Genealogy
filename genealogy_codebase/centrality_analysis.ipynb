{
 "cells": [
  {
   "cell_type": "code",
   "execution_count": null,
   "id": "f368f8c1-a8dd-48a7-a66b-ec9870c0fdac",
   "metadata": {},
   "outputs": [],
   "source": [
    "pip install networkx"
   ]
  },
  {
   "cell_type": "code",
   "execution_count": 40,
   "id": "0bf92967-eb59-43aa-bc17-a3eeff331c00",
   "metadata": {},
   "outputs": [],
   "source": [
    "import collections\n",
    "import networkx as nx\n",
    "import pandas as pd"
   ]
  },
  {
   "cell_type": "code",
   "execution_count": 45,
   "id": "a971b98d-f145-4e8b-9240-62395869b55f",
   "metadata": {},
   "outputs": [],
   "source": [
    "def create_graph(filepath):\n",
    "    # Read the CSV file\n",
    "    df = pd.read_csv(filepath)\n",
    "    \n",
    "    print(f\"Contents of {filepath}:\")\n",
    "    # print(df)\n",
    "\n",
    "    # Create a directed graph object\n",
    "    G = nx.DiGraph()\n",
    "\n",
    "    # Add nodes to the graph\n",
    "    nodes = list(set(df[\"parent\"].tolist() + df[\"child\"].tolist()))\n",
    "    G.add_nodes_from(nodes)\n",
    "    print(nodes)\n",
    "\n",
    "    # Add edges with their corresponding penwidth attributes\n",
    "    edges = df[[\"parent\", \"child\", \"weight\"]].values.tolist()\n",
    "    # print(filepath)\n",
    "    for source, target, penwidth in edges:\n",
    "        G.add_edge(source, target, penwidth=penwidth)\n",
    "        # print(f\"({source}, {target}, {penwidth})\")\n",
    "\n",
    "    return G\n"
   ]
  },
  {
   "cell_type": "code",
   "execution_count": 46,
   "id": "48bba8f3-2d0a-4d6c-9d93-f05d31c6026d",
   "metadata": {
    "scrolled": true,
    "tags": []
   },
   "outputs": [
    {
     "name": "stdout",
     "output_type": "stream",
     "text": [
      "Contents of data/parent_child_weights.csv:\n",
      "['crossfit', 'running', '1200isplenty', 'MealPrepSunday', 'PlantBasedDiet', 'vegan', 'jumprope', 'whole30', 'Fitness', 'nutrition', 'keto', 'weightlifting', 'bodybuilding', 'intermittentfasting', 'powerlifting', 'naturalbodybuilding', 'lowcarb', 'bodyweightfitness', 'Paleo']\n",
      "Contents of data_1/filename_1.csv:\n",
      "['crossfit', 'running', '1200isplenty', 'MealPrepSunday', 'PlantBasedDiet', 'vegan', 'whole30', 'Fitness', 'nutrition', 'keto', 'weightlifting', 'bodybuilding', 'intermittentfasting', 'powerlifting', 'naturalbodybuilding', 'lowcarb', 'yoga', 'bodyweightfitness', 'Paleo']\n",
      "Contents of data_2/filename_2.csv:\n",
      "['powerlifting', 'crossfit', 'running', '1200isplenty', 'naturalbodybuilding', 'keto', 'MealPrepSunday', 'lowcarb', 'jumprope', 'whole30', 'Fitness', 'nutrition', 'PlantBasedDiet', 'weightlifting', 'bodybuilding', 'intermittentfasting', 'bodyweightfitness', 'Paleo']\n",
      "Contents of data_3/filename_3.csv:\n",
      "['crossfit', 'running', '1200isplenty', 'MealPrepSunday', 'PlantBasedDiet', 'vegan', 'jumprope', 'whole30', 'Fitness', 'nutrition', 'keto', 'weightlifting', 'bodybuilding', 'intermittentfasting', 'powerlifting', 'naturalbodybuilding', 'lowcarb', 'bodyweightfitness', 'Paleo']\n"
     ]
    }
   ],
   "source": [
    "# Define the filepaths for the CSV files\n",
    "filepaths = [\n",
    "    \"data/parent_child_weights.csv\",\n",
    "    \"data_1/filename_1.csv\",\n",
    "    \"data_2/filename_2.csv\",\n",
    "    \"data_3/filename_3.csv\"\n",
    "]\n",
    "\n",
    "# Create a new graph for each CSV file\n",
    "graphs = [create_graph(filepath) for filepath in filepaths]"
   ]
  },
  {
   "cell_type": "code",
   "execution_count": 47,
   "id": "70a33f1c-98ae-451b-8599-60be8b9a1097",
   "metadata": {},
   "outputs": [],
   "source": [
    "def aggregate_centrality_measures(G):\n",
    "    # Calculate centrality measures\n",
    "    degree_centrality = nx.degree_centrality(G)\n",
    "    betweenness_centrality = nx.betweenness_centrality(G)\n",
    "    closeness_centrality = nx.closeness_centrality(G)\n",
    "\n",
    "    # Aggregate centrality measures by community\n",
    "    \n",
    "    community_dict = {\n",
    "        'Fitness': ['Fitness','bodybuilding','running','yoga','crossfit','weightlifting','naturalbodybuilding','powerlifting','jumprope','bodyweightfitness'],\n",
    "        'Nutrition': ['nutrition', 'PlantBasedDiet', 'keto', 'vegan', 'lowcarb', 'Paleo', 'whole30', 'intermittentfasting', '1200isplenty', 'MealPrepSunday'],\n",
    "    }\n",
    "\n",
    "    # Generate community_dict based on the nodes in the graph\n",
    "    community_dict = {community: [node for node in nodes if node in G.nodes] for community, nodes in community_dict.items()}\n",
    "\n",
    "    community_degree_centrality = collections.defaultdict(float)\n",
    "    community_betweenness_centrality = collections.defaultdict(float)\n",
    "    community_closeness_centrality = collections.defaultdict(float)\n",
    "\n",
    "    for community, nodes in community_dict.items():\n",
    "        for node in nodes:\n",
    "            if node in degree_centrality:\n",
    "                community_degree_centrality[community] += degree_centrality[node]\n",
    "                community_betweenness_centrality[community] += betweenness_centrality[node]\n",
    "                community_closeness_centrality[community] += closeness_centrality[node]\n",
    "\n",
    "    return {\n",
    "        \"community_degree_centrality\": dict(community_degree_centrality),\n",
    "        \"community_betweenness_centrality\": dict(community_betweenness_centrality),\n",
    "        \"community_closeness_centrality\": dict(community_closeness_centrality),\n",
    "    }"
   ]
  },
  {
   "cell_type": "code",
   "execution_count": 48,
   "id": "2d82200a-e678-4412-bfaf-c45936ac7ad2",
   "metadata": {},
   "outputs": [
    {
     "name": "stdout",
     "output_type": "stream",
     "text": [
      "Graph 1:\n",
      "  Aggregated Degree Centrality by Community: {'Fitness': 5.444444444444444, 'Nutrition': 3.3333333333333326}\n",
      "  Aggregated Betweenness Centrality by Community: {'Fitness': 0.46770152505446627, 'Nutrition': 0.7055010893246187}\n",
      "  Aggregated Closeness Centrality by Community: {'Fitness': 4.475559668458218, 'Nutrition': 3.328451190612294}\n",
      "Graph 2:\n",
      "  Aggregated Degree Centrality by Community: {'Fitness': 4.666666666666667, 'Nutrition': 4.666666666666666}\n",
      "  Aggregated Betweenness Centrality by Community: {'Fitness': 0.5486383442265795, 'Nutrition': 1.0297930283224401}\n",
      "  Aggregated Closeness Centrality by Community: {'Fitness': 3.9961266310663905, 'Nutrition': 3.8957267783656677}\n",
      "Graph 3:\n",
      "  Aggregated Degree Centrality by Community: {'Fitness': 4.941176470588235, 'Nutrition': 4.705882352941177}\n",
      "  Aggregated Betweenness Centrality by Community: {'Fitness': 0.3676470588235294, 'Nutrition': 0.9044117647058824}\n",
      "  Aggregated Closeness Centrality by Community: {'Fitness': 3.7897205649988597, 'Nutrition': 3.456853013724733}\n",
      "Graph 4:\n",
      "  Aggregated Degree Centrality by Community: {'Fitness': 5.444444444444444, 'Nutrition': 3.444444444444444}\n",
      "  Aggregated Betweenness Centrality by Community: {'Fitness': 0.43208061002178655, 'Nutrition': 0.7019063180827887}\n",
      "  Aggregated Closeness Centrality by Community: {'Fitness': 4.475559668458218, 'Nutrition': 3.4171150961192738}\n"
     ]
    }
   ],
   "source": [
    "# Calculate aggregated centrality measures for each graph\n",
    "aggregated_centrality_measures_list = []\n",
    "for interval_graph in graphs:\n",
    "    measures = aggregate_centrality_measures(interval_graph)\n",
    "    aggregated_centrality_measures_list.append(measures)\n",
    "\n",
    "# Print aggregated centrality measures for each graph\n",
    "# Graph 1 : full three-month data\n",
    "# Graph 2: first month data\n",
    "# Graph 3: second month data\n",
    "# Graph 4: third month data\n",
    "for i, measures in enumerate(aggregated_centrality_measures_list):\n",
    "    print(f\"Graph {i+1}:\")\n",
    "    print(\"  Aggregated Degree Centrality by Community:\", measures[\"community_degree_centrality\"])\n",
    "    print(\"  Aggregated Betweenness Centrality by Community:\", measures[\"community_betweenness_centrality\"])\n",
    "    print(\"  Aggregated Closeness Centrality by Community:\", measures[\"community_closeness_centrality\"])\n"
   ]
  },
  {
   "cell_type": "code",
   "execution_count": null,
   "id": "c5af69f0-3307-45df-b6c1-3a2f645f9c9d",
   "metadata": {},
   "outputs": [],
   "source": []
  },
  {
   "cell_type": "code",
   "execution_count": 53,
   "id": "760a8019-2fdc-4145-8688-71499aab192e",
   "metadata": {},
   "outputs": [
    {
     "data": {
      "image/png": "[encoded data removed]",
      "text/plain": [
       "<Figure size 432x288 with 1 Axes>"
      ]
     },
     "metadata": {
      "needs_background": "light"
     },
     "output_type": "display_data"
    }
   ],
   "source": [
    "import matplotlib.pyplot as plt\n",
    "\n",
    "# Centrality data for each interval\n",
    "data = {\n",
    "    \"Interval 1\": {\n",
    "        \"Degree\": {\"Fitness\": 4.666666666666667, \"Nutrition\": 4.666666666666666},\n",
    "        \"Betweenness\": {\"Fitness\": 0.5486383442265795, \"Nutrition\": 1.0297930283224401},\n",
    "        \"Closeness\": {\"Fitness\": 3.9961266310663905, \"Nutrition\": 3.8957267783656677},\n",
    "    },\n",
    "    \"Interval 2\": {\n",
    "        \"Degree\": {\"Fitness\": 4.941176470588235, \"Nutrition\": 4.705882352941177},\n",
    "        \"Betweenness\": {\"Fitness\": 0.3676470588235294, \"Nutrition\": 0.9044117647058824},\n",
    "        \"Closeness\": {\"Fitness\": 3.7897205649988597, \"Nutrition\": 3.456853013724733},\n",
    "    },\n",
    "    \"Interval 3\": {\n",
    "        \"Degree\": {\"Fitness\": 5.444444444444444, \"Nutrition\": 3.444444444444444},\n",
    "        \"Betweenness\": {\"Fitness\": 0.43208061002178655, \"Nutrition\": 0.7019063180827887},\n",
    "        \"Closeness\": {\"Fitness\": 4.475559668458218, \"Nutrition\": 3.4171150961192738},\n",
    "    },\n",
    "}\n",
    "\n",
    "# Extract data for plotting\n",
    "intervals = list(data.keys())\n",
    "degree_fitness = [data[i][\"Degree\"][\"Fitness\"] for i in intervals]\n",
    "degree_nutrition = [data[i][\"Degree\"][\"Nutrition\"] for i in intervals]\n",
    "betweenness_fitness = [data[i][\"Betweenness\"][\"Fitness\"] for i in intervals]\n",
    "betweenness_nutrition = [data[i][\"Betweenness\"][\"Nutrition\"] for i in intervals]\n",
    "closeness_fitness = [data[i][\"Closeness\"][\"Fitness\"] for i in intervals]\n",
    "closeness_nutrition = [data[i][\"Closeness\"][\"Nutrition\"] for i in intervals]\n",
    "\n",
    "# Plot the data\n",
    "plt.plot(intervals, degree_fitness, color=\"blue\", label=\"Degree - Fitness\", linestyle=\"-\")\n",
    "plt.plot(intervals, degree_nutrition, color=\"blue\", label=\"Degree - Nutrition\", linestyle=\"--\")\n",
    "plt.plot(intervals, betweenness_fitness, color=\"green\", label=\"Betweenness - Fitness\", linestyle=\"-\")\n",
    "plt.plot(intervals, betweenness_nutrition, color=\"green\", label=\"Betweenness - Nutrition\", linestyle=\"--\")\n",
    "plt.plot(intervals, closeness_fitness, color=\"red\", label=\"Closeness - Fitness\", linestyle=\"-\")\n",
    "plt.plot(intervals, closeness_nutrition, color=\"red\", label=\"Closeness - Nutrition\", linestyle=\"--\")\n",
    "\n",
    "# Set labels and title\n",
    "plt.xlabel(\"Interval\")\n",
    "plt.ylabel(\"Centrality Measure\")\n",
    "plt.title(\"Centrality Measures by Community and Interval\")\n",
    "\n",
    "# Add legend\n",
    "plt.legend(loc=\"upper left\", bbox_to_anchor=(1, 1))\n",
    "\n",
    "# Adjust layout to accommodate the legend\n",
    "plt.subplots_adjust(right=0.9)\n",
    "\n",
    "plt.savefig(\"centrality_interval.png\", dpi=300, bbox_inches=\"tight\")\n",
    "\n",
    "# Show plot\n",
    "plt.show()\n"
   ]
  },
  {
   "cell_type": "code",
   "execution_count": null,
   "id": "aebb9d5f-7249-4d62-9c80-e5c8ffd677e7",
   "metadata": {},
   "outputs": [],
   "source": []
  },
  {
   "cell_type": "code",
   "execution_count": null,
   "id": "3e4c9f4d-008c-4137-94e6-cc950b62eb56",
   "metadata": {},
   "outputs": [],
   "source": []
  }
 ],
 "metadata": {
  "kernelspec": {
   "display_name": "Python 3",
   "language": "python",
   "name": "python3"
  },
  "language_info": {
   "codemirror_mode": {
    "name": "ipython",
    "version": 3
   },
   "file_extension": ".py",
   "mimetype": "text/x-python",
   "name": "python",
   "nbconvert_exporter": "python",
   "pygments_lexer": "ipython3",
   "version": "3.8.10"
  }
 },
 "nbformat": 4,
 "nbformat_minor": 5
}
